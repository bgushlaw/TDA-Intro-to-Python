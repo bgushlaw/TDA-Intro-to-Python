{
 "cells": [
  {
   "cell_type": "code",
   "execution_count": 1,
   "metadata": {},
   "outputs": [],
   "source": [
    "import pandas as pd\n",
    "import numpy as np\n",
    "import os.path\n",
    "from os import path\n",
    "import matplotlib.pyplot as plt\n",
    "import scipy.stats as stats\n"
   ]
  },
  {
   "cell_type": "code",
   "execution_count": 2,
   "metadata": {
    "scrolled": true
   },
   "outputs": [],
   "source": [
    "# filename = 'datafile.txt'\n",
    "# pd.read_csv(filename, sep='\\t')"
   ]
  },
  {
   "cell_type": "code",
   "execution_count": 3,
   "metadata": {
    "scrolled": true
   },
   "outputs": [
    {
     "data": {
      "text/html": [
       "<div>\n",
       "<style scoped>\n",
       "    .dataframe tbody tr th:only-of-type {\n",
       "        vertical-align: middle;\n",
       "    }\n",
       "\n",
       "    .dataframe tbody tr th {\n",
       "        vertical-align: top;\n",
       "    }\n",
       "\n",
       "    .dataframe thead th {\n",
       "        text-align: right;\n",
       "    }\n",
       "</style>\n",
       "<table border=\"1\" class=\"dataframe\">\n",
       "  <thead>\n",
       "    <tr style=\"text-align: right;\">\n",
       "      <th></th>\n",
       "      <th>Date</th>\n",
       "      <th>Time</th>\n",
       "      <th>TE-007 R.T.</th>\n",
       "      <th>CA O2 25</th>\n",
       "      <th>DP (600)</th>\n",
       "      <th>BPR Equilibar</th>\n",
       "      <th>DP (300)</th>\n",
       "      <th>CA O2 100</th>\n",
       "      <th>FT-201new</th>\n",
       "      <th>DP (600).1</th>\n",
       "      <th>...</th>\n",
       "      <th>V-406</th>\n",
       "      <th>V-501</th>\n",
       "      <th>V-502</th>\n",
       "      <th>V-503</th>\n",
       "      <th>V-504</th>\n",
       "      <th>V-505</th>\n",
       "      <th>V-506</th>\n",
       "      <th>V-601</th>\n",
       "      <th>V-602</th>\n",
       "      <th>Notes</th>\n",
       "    </tr>\n",
       "  </thead>\n",
       "  <tbody>\n",
       "    <tr>\n",
       "      <th>0</th>\n",
       "      <td>11/18/2021</td>\n",
       "      <td>09:01:57</td>\n",
       "      <td>0.00000</td>\n",
       "      <td>0.000000</td>\n",
       "      <td>0.000000</td>\n",
       "      <td>0.00000</td>\n",
       "      <td>0.0</td>\n",
       "      <td>0.000000</td>\n",
       "      <td>0.000000</td>\n",
       "      <td>0.000000</td>\n",
       "      <td>...</td>\n",
       "      <td>0</td>\n",
       "      <td>0</td>\n",
       "      <td>0</td>\n",
       "      <td>0</td>\n",
       "      <td>0</td>\n",
       "      <td>0</td>\n",
       "      <td>0</td>\n",
       "      <td>0</td>\n",
       "      <td>0</td>\n",
       "      <td>NaN</td>\n",
       "    </tr>\n",
       "    <tr>\n",
       "      <th>1</th>\n",
       "      <td>11/18/2021</td>\n",
       "      <td>09:01:58</td>\n",
       "      <td>0.00000</td>\n",
       "      <td>0.000000</td>\n",
       "      <td>0.000000</td>\n",
       "      <td>0.00000</td>\n",
       "      <td>0.0</td>\n",
       "      <td>0.000000</td>\n",
       "      <td>0.000000</td>\n",
       "      <td>0.000000</td>\n",
       "      <td>...</td>\n",
       "      <td>0</td>\n",
       "      <td>0</td>\n",
       "      <td>0</td>\n",
       "      <td>0</td>\n",
       "      <td>0</td>\n",
       "      <td>0</td>\n",
       "      <td>0</td>\n",
       "      <td>0</td>\n",
       "      <td>0</td>\n",
       "      <td>NaN</td>\n",
       "    </tr>\n",
       "    <tr>\n",
       "      <th>2</th>\n",
       "      <td>11/18/2021</td>\n",
       "      <td>09:01:59</td>\n",
       "      <td>21.76651</td>\n",
       "      <td>10.395285</td>\n",
       "      <td>0.004395</td>\n",
       "      <td>0.21973</td>\n",
       "      <td>0.0</td>\n",
       "      <td>95.033188</td>\n",
       "      <td>0.017423</td>\n",
       "      <td>0.004395</td>\n",
       "      <td>...</td>\n",
       "      <td>0</td>\n",
       "      <td>0</td>\n",
       "      <td>0</td>\n",
       "      <td>0</td>\n",
       "      <td>0</td>\n",
       "      <td>0</td>\n",
       "      <td>0</td>\n",
       "      <td>0</td>\n",
       "      <td>0</td>\n",
       "      <td>NaN</td>\n",
       "    </tr>\n",
       "    <tr>\n",
       "      <th>3</th>\n",
       "      <td>11/18/2021</td>\n",
       "      <td>09:02:00</td>\n",
       "      <td>21.76651</td>\n",
       "      <td>10.406271</td>\n",
       "      <td>0.000000</td>\n",
       "      <td>0.21973</td>\n",
       "      <td>0.0</td>\n",
       "      <td>94.945297</td>\n",
       "      <td>0.017423</td>\n",
       "      <td>0.004395</td>\n",
       "      <td>...</td>\n",
       "      <td>0</td>\n",
       "      <td>0</td>\n",
       "      <td>0</td>\n",
       "      <td>0</td>\n",
       "      <td>0</td>\n",
       "      <td>0</td>\n",
       "      <td>0</td>\n",
       "      <td>0</td>\n",
       "      <td>0</td>\n",
       "      <td>NaN</td>\n",
       "    </tr>\n",
       "    <tr>\n",
       "      <th>4</th>\n",
       "      <td>11/18/2021</td>\n",
       "      <td>09:02:01</td>\n",
       "      <td>21.76651</td>\n",
       "      <td>10.406271</td>\n",
       "      <td>0.004395</td>\n",
       "      <td>0.21973</td>\n",
       "      <td>0.0</td>\n",
       "      <td>94.945297</td>\n",
       "      <td>-0.000244</td>\n",
       "      <td>0.000000</td>\n",
       "      <td>...</td>\n",
       "      <td>0</td>\n",
       "      <td>0</td>\n",
       "      <td>0</td>\n",
       "      <td>0</td>\n",
       "      <td>0</td>\n",
       "      <td>0</td>\n",
       "      <td>0</td>\n",
       "      <td>0</td>\n",
       "      <td>0</td>\n",
       "      <td>NaN</td>\n",
       "    </tr>\n",
       "  </tbody>\n",
       "</table>\n",
       "<p>5 rows × 80 columns</p>\n",
       "</div>"
      ],
      "text/plain": [
       "         Date      Time  TE-007 R.T.   CA O2 25   DP (600)  BPR Equilibar  \\\n",
       "0  11/18/2021  09:01:57      0.00000   0.000000   0.000000        0.00000   \n",
       "1  11/18/2021  09:01:58      0.00000   0.000000   0.000000        0.00000   \n",
       "2  11/18/2021  09:01:59     21.76651  10.395285   0.004395        0.21973   \n",
       "3  11/18/2021  09:02:00     21.76651  10.406271   0.000000        0.21973   \n",
       "4  11/18/2021  09:02:01     21.76651  10.406271   0.004395        0.21973   \n",
       "\n",
       "   DP (300)   CA O2 100  FT-201new   DP (600).1  ...  V-406  V-501  V-502  \\\n",
       "0       0.0    0.000000   0.000000     0.000000  ...      0      0      0   \n",
       "1       0.0    0.000000   0.000000     0.000000  ...      0      0      0   \n",
       "2       0.0   95.033188   0.017423     0.004395  ...      0      0      0   \n",
       "3       0.0   94.945297   0.017423     0.004395  ...      0      0      0   \n",
       "4       0.0   94.945297  -0.000244     0.000000  ...      0      0      0   \n",
       "\n",
       "   V-503  V-504  V-505  V-506  V-601  V-602  Notes  \n",
       "0      0      0      0      0      0      0    NaN  \n",
       "1      0      0      0      0      0      0    NaN  \n",
       "2      0      0      0      0      0      0    NaN  \n",
       "3      0      0      0      0      0      0    NaN  \n",
       "4      0      0      0      0      0      0    NaN  \n",
       "\n",
       "[5 rows x 80 columns]"
      ]
     },
     "execution_count": 3,
     "metadata": {},
     "output_type": "execute_result"
    }
   ],
   "source": [
    "df=pd.read_csv(\"Data_211118_0901.CSV\")\n",
    "df.head()"
   ]
  },
  {
   "cell_type": "code",
   "execution_count": 4,
   "metadata": {},
   "outputs": [
    {
     "data": {
      "text/plain": [
       "str"
      ]
     },
     "execution_count": 4,
     "metadata": {},
     "output_type": "execute_result"
    }
   ],
   "source": [
    "type(df[\"Time\"][0])"
   ]
  },
  {
   "cell_type": "code",
   "execution_count": 5,
   "metadata": {},
   "outputs": [],
   "source": [
    "df['Diff'] = pd.to_datetime(df['Time'],format= '%H:%M:%S').diff().dt.total_seconds()\n",
    "df['Time1'] = pd.to_datetime(df['Time'],format= '%H:%M:%S').diff()\n",
    "DeltaTime=df['Diff'].drop([0])\n",
    "\n",
    "\n",
    "FT_101=df['FT-101'].drop(len(df)-1)\n",
    "FT_102=df['FT-101'].drop(len(df)-1)\n",
    "FT_201=df['FT-201'].drop(len(df)-1)\n",
    "FT_301=df['FT-301'].drop(len(df)-1)\n",
    "FT_401=df['FT-401'].drop(len(df)-1)\n",
    "FT_501=df['FT-501'].drop(len(df)-1)\n",
    "FT_601=df['FT-601'].drop(len(df)-1)\n",
    "\n",
    "PT_101=df['PT-101'].drop(len(df)-1)\n",
    "PT_201=df['PT-201'].drop(len(df)-1)\n",
    "PT_301=df['PT-301'].drop(len(df)-1)\n",
    "PT_401=df['PT-401'].drop(len(df)-1)\n",
    "PT_501=df['PT-501'].drop(len(df)-1)\n",
    "PT_601=df['PT-601'].drop(len(df)-1)\n",
    "\n",
    "CA_O2_100=df[' CA O2 100'].drop(len(df)-1)\n",
    "CA_O2_25=df['CA O2 25'].drop(len(df)-1)\n",
    "BGA=df['BGA (200)'].drop(len(df)-1)\n",
    "\n",
    "\n",
    "DeltaTime=DeltaTime.reset_index(drop=True)\n",
    "FT_101=FT_101.reset_index(drop=True)\n",
    "FT_102=FT_102.reset_index(drop=True)\n",
    "FT_201=FT_201.reset_index(drop=True)\n",
    "FT_301=FT_301.reset_index(drop=True)\n",
    "FT_401=FT_401.reset_index(drop=True)\n",
    "FT_501=FT_501.reset_index(drop=True)\n",
    "FT_601=FT_601.reset_index(drop=True)\n",
    "\n",
    "PT_101=PT_101.reset_index(drop=True)\n",
    "PT_201=PT_201.reset_index(drop=True)\n",
    "PT_301=PT_301.reset_index(drop=True)\n",
    "PT_401=PT_401.reset_index(drop=True)\n",
    "PT_501=PT_501.reset_index(drop=True)\n",
    "PT_601=PT_601.reset_index(drop=True)\n",
    "\n",
    "CA_O2_100=CA_O2_100.reset_index(drop=True)\n",
    "CA_O2_25=CA_O2_25.reset_index(drop=True)\n",
    "BGA=BGA.reset_index(drop=True)"
   ]
  },
  {
   "cell_type": "markdown",
   "metadata": {},
   "source": [
    "## Mass flow balance"
   ]
  },
  {
   "cell_type": "code",
   "execution_count": 41,
   "metadata": {},
   "outputs": [
    {
     "name": "stdout",
     "output_type": "stream",
     "text": [
      "Start:3555  End:3675\n"
     ]
    }
   ],
   "source": [
    "#Time region\n",
    "StartTime='10:05:00'\n",
    "EndTime='10:15:00'\n",
    "#Parameters\n",
    "O2ambient=0.21\n",
    "N2ambient=1-O2ambient\n",
    "N2UHP=1.0\n",
    "Pambient=12.2\n",
    "Psea=14.696\n",
    "Start=3555\n",
    "End=Start+120\n",
    "# Start=df[df['Time'] == StartTime].index.values[0]\n",
    "# End=df[df['Time'] == EndTime].index.values[0]\n",
    "print(\"Start:\" + str(Start), \" End:\" + str(End))"
   ]
  },
  {
   "cell_type": "code",
   "execution_count": 81,
   "metadata": {},
   "outputs": [],
   "source": [
    "O2_Purge_Inlet=(FT_301[Start:End]/60)*CA_O2_100[Start:End]/100\n",
    "O2_Purge_Outlet=(FT_401[Start:End]/60)*CA_O2_100[Start:End]/100\n",
    "O2_Feed_Inlet=(FT_102[Start:End]/60)*O2ambient\n",
    "O2_Product_Outlet=(FT_601[Start:End]/60)*CA_O2_25[Start:End]/100\n",
    "O2_Blowdown_Outlet=(FT_201[Start:End]/60)*BGA[Start:End]/100\n",
    "N2_Repress_Inlet=(FT_501[Start:End]/60)*N2UHP\n",
    "N2_Feed_Inlet=(FT_102[Start:End]/60)*N2ambient\n",
    "N2_Product_Outlet=(FT_601[Start:End]/60)*(100-CA_O2_25[Start:End])/100\n",
    "N2_Purge_Outlet=(FT_401[Start:End]/60)*(100-CA_O2_100[Start:End])/100\n",
    "N2_Blowdown_Outlet=(FT_401[Start:End]/60)*(100-BGA[Start:End])/100"
   ]
  },
  {
   "cell_type": "code",
   "execution_count": 82,
   "metadata": {},
   "outputs": [],
   "source": [
    "O2_In=O2_Purge_Inlet.sum(axis=0)+O2_Feed_Inlet.sum(axis=0)\n",
    "O2_Out=O2_Purge_Outlet.sum(axis=0)+O2_Product_Outlet.sum(axis=0)+O2_Blowdown_Outlet.sum(axis=0)\n",
    "O2massbalance=O2_In-O2_Out"
   ]
  },
  {
   "cell_type": "code",
   "execution_count": 83,
   "metadata": {},
   "outputs": [],
   "source": [
    "N2_In=N2_Repress_Inlet.sum(axis=0)+N2_Feed_Inlet.sum(axis=0)\n",
    "N2_Out=N2_Purge_Outlet.sum(axis=0)+N2_Product_Outlet.sum(axis=0)+N2_Blowdown_Outlet.sum(axis=0)\n",
    "N2massbalance=N2_In-N2_Out"
   ]
  },
  {
   "cell_type": "code",
   "execution_count": 86,
   "metadata": {},
   "outputs": [],
   "source": [
    "O2Purge_In=O2_Purge_Outlet.sum(axis=0)\n",
    "O2Blowdown_Out=O2_Blowdown_Outlet.sum(axis=0)\n",
    "O2purgebalance=O2Blowdown_Out-O2Purge_In"
   ]
  },
  {
   "cell_type": "code",
   "execution_count": 87,
   "metadata": {},
   "outputs": [
    {
     "name": "stdout",
     "output_type": "stream",
     "text": [
      "O2 mass balance:-2.111738045407332  N2 mass balance:-0.22892848497994778  Purge mass balance:-0.39115508427274825\n"
     ]
    }
   ],
   "source": [
    "print(\"O2 mass balance:\" + str(O2massbalance), \" N2 mass balance:\" + str(N2massbalance),\" Purge mass balance:\" + str(O2purgebalance),)"
   ]
  },
  {
   "cell_type": "markdown",
   "metadata": {},
   "source": [
    "## Creating the plots"
   ]
  },
  {
   "cell_type": "code",
   "execution_count": 64,
   "metadata": {},
   "outputs": [
    {
     "data": {
      "application/vnd.jupyter.widget-view+json": {
       "model_id": "b4d08c56d0e64bb0b0a53c364db18882",
       "version_major": 2,
       "version_minor": 0
      },
      "text/plain": [
       "Canvas(toolbar=Toolbar(toolitems=[('Home', 'Reset original view', 'home', 'home'), ('Back', 'Back to previous …"
      ]
     },
     "metadata": {},
     "output_type": "display_data"
    }
   ],
   "source": [
    "import matplotlib.pyplot as plt\n",
    "plt.rcParams['figure.figsize'] = [20/2.54, 10/2.54] \n",
    "fig = plt.figure()\n",
    "ax = plt.axes()\n",
    "line1,=plt.plot(O2_Purge_Outlet, color='Indigo', linestyle='-', linewidth=3,label='O2purge L')\n",
    "line2,=plt.plot(O2_Blowdown_Outlet, color='blue', linestyle='-', linewidth=3,label='O2Blowdown L')\n",
    "plt.legend(handles=[line1,line2], loc='lower right')\n",
    "\n",
    "plt.xlabel('Seconds', fontsize=15)\n",
    "plt.ylabel('O2 liters', fontsize=15)\n",
    "plt.grid()\n",
    "plt.show()"
   ]
  },
  {
   "cell_type": "code",
   "execution_count": 50,
   "metadata": {},
   "outputs": [],
   "source": [
    "plt.savefig('O2purge.png')"
   ]
  },
  {
   "cell_type": "code",
   "execution_count": 62,
   "metadata": {},
   "outputs": [
    {
     "data": {
      "application/vnd.jupyter.widget-view+json": {
       "model_id": "b46510e0159a46ac9ffe2cbbad236b54",
       "version_major": 2,
       "version_minor": 0
      },
      "text/plain": [
       "Canvas(toolbar=Toolbar(toolitems=[('Home', 'Reset original view', 'home', 'home'), ('Back', 'Back to previous …"
      ]
     },
     "metadata": {},
     "output_type": "display_data"
    }
   ],
   "source": [
    "fig, ax1 = plt.subplots()\n",
    "ax2 = ax1.twinx()\n",
    "plt.rcParams['figure.figsize'] = [20/2.54, 10/2.54] \n",
    "\n",
    "line1,=ax1.plot(CA_O2_100[Start:End], color='red', linestyle='-', linewidth=3,label='O2purge %VOL')\n",
    "line2,=ax1.plot(BGA[Start:End], color='green', linestyle='-', linewidth=3,label='O2Blowdown %VOL')\n",
    "line3,=ax2.plot(PT_201[Start:End], color='indigo', linestyle='-', linewidth=3,label='PT201')\n",
    "line4,=ax2.plot(PT_401[Start:End], color='blue', linestyle='-', linewidth=3,label='PT401')\n",
    "plt.legend(handles=[line1,line2,line3,line4], loc='lower right')\n",
    "\n",
    "ax1.set_xlabel('Seconds', fontsize=15)\n",
    "ax1.set_ylabel('O2%VOL', fontsize=15)\n",
    "ax2.set_ylabel('psia', fontsize=15)\n",
    "plt.grid()\n",
    "plt.show()\n"
   ]
  },
  {
   "cell_type": "code",
   "execution_count": 88,
   "metadata": {
    "scrolled": true
   },
   "outputs": [
    {
     "data": {
      "application/vnd.jupyter.widget-view+json": {
       "model_id": "e9d62353a12f45199ca1a12dbecc5044",
       "version_major": 2,
       "version_minor": 0
      },
      "text/plain": [
       "Canvas(toolbar=Toolbar(toolitems=[('Home', 'Reset original view', 'home', 'home'), ('Back', 'Back to previous …"
      ]
     },
     "metadata": {},
     "output_type": "display_data"
    }
   ],
   "source": [
    "fig, ax1 = plt.subplots()\n",
    "plt.rcParams['figure.figsize'] = [20/2.54, 10/2.54] \n",
    "ax2 = ax1.twinx()\n",
    "line1,=ax1.plot(O2_Purge_Inlet, color='Indigo', linestyle='-', linewidth=3,label='O2purge L')\n",
    "line2,=ax1.plot(O2_Blowdown_Outlet, color='blue', linestyle='-', linewidth=3,label='O2Blowdown L')\n",
    "line3,=ax2.plot(FT_301[Start:End], color='green', linestyle='-', linewidth=3,label='FT301')\n",
    "line4,=ax2.plot(FT_401[Start:End], color='red', linestyle='-', linewidth=3,label='FT401')\n",
    "plt.legend(handles=[line1,line2,line3,line4], loc='lower right')\n",
    "\n",
    "ax1.set_xlabel('Seconds', fontsize=15)\n",
    "ax1.set_ylabel('O2 Liters', fontsize=15)\n",
    "ax2.set_ylabel('O2 LPM', fontsize=15)\n",
    "plt.grid()\n",
    "plt.show()"
   ]
  },
  {
   "cell_type": "markdown",
   "metadata": {},
   "source": [
    "### Interactive Plot"
   ]
  },
  {
   "cell_type": "code",
   "execution_count": 53,
   "metadata": {},
   "outputs": [],
   "source": [
    "%matplotlib widget\n",
    "fig.canvas.toolbar_visible = True\n",
    "fig.canvas.header_visible = True\n",
    "fig.canvas.resizable = True\n",
    "\n",
    "#Defualt user interface\n",
    "#%matplotlib inline"
   ]
  },
  {
   "cell_type": "code",
   "execution_count": 65,
   "metadata": {},
   "outputs": [
    {
     "data": {
      "application/vnd.jupyter.widget-view+json": {
       "model_id": "eed59fca570c4a2288986b9c9812900c",
       "version_major": 2,
       "version_minor": 0
      },
      "text/plain": [
       "Canvas(toolbar=Toolbar(toolitems=[('Home', 'Reset original view', 'home', 'home'), ('Back', 'Back to previous …"
      ]
     },
     "metadata": {},
     "output_type": "display_data"
    }
   ],
   "source": [
    "fig, ax1 = plt.subplots()\n",
    "plt.rcParams['figure.figsize'] = [20/2.54, 10/2.54] \n",
    "ax2 = ax1.twinx()\n",
    "line1,=ax1.plot(O2_Purge_Inlet, color='Indigo', linestyle='-', linewidth=3,label='O2purge L')\n",
    "line2,=ax1.plot(O2_Blowdown_Outlet, color='blue', linestyle='-', linewidth=3,label='O2Blowdown L')\n",
    "line3,=ax2.plot(FT_301[Start:End], color='green', linestyle='-', linewidth=3,label='FT301')\n",
    "line4,=ax2.plot(FT_401[Start:End], color='red', linestyle='-', linewidth=3,label='FT401')\n",
    "plt.legend(handles=[line1,line2,line3,line4], loc='lower right')\n",
    "\n",
    "ax1.set_xlabel('Seconds', fontsize=15)\n",
    "ax1.set_ylabel('O2 Liters', fontsize=15)\n",
    "ax2.set_ylabel('O2 LPM', fontsize=15)\n",
    "plt.grid()\n",
    "plt.show()"
   ]
  },
  {
   "cell_type": "code",
   "execution_count": 18,
   "metadata": {},
   "outputs": [
    {
     "data": {
      "text/html": [
       "<div>\n",
       "<style scoped>\n",
       "    .dataframe tbody tr th:only-of-type {\n",
       "        vertical-align: middle;\n",
       "    }\n",
       "\n",
       "    .dataframe tbody tr th {\n",
       "        vertical-align: top;\n",
       "    }\n",
       "\n",
       "    .dataframe thead th {\n",
       "        text-align: right;\n",
       "    }\n",
       "</style>\n",
       "<table border=\"1\" class=\"dataframe\">\n",
       "  <thead>\n",
       "    <tr style=\"text-align: right;\">\n",
       "      <th></th>\n",
       "      <th>Date</th>\n",
       "      <th>Time</th>\n",
       "      <th>TE-007 R.T.</th>\n",
       "      <th>CA O2 25</th>\n",
       "      <th>DP (600)</th>\n",
       "      <th>BPR Equilibar</th>\n",
       "      <th>DP (300)</th>\n",
       "      <th>CA O2 100</th>\n",
       "      <th>FT-201new</th>\n",
       "      <th>DP (600).1</th>\n",
       "      <th>...</th>\n",
       "      <th>V-502</th>\n",
       "      <th>V-503</th>\n",
       "      <th>V-504</th>\n",
       "      <th>V-505</th>\n",
       "      <th>V-506</th>\n",
       "      <th>V-601</th>\n",
       "      <th>V-602</th>\n",
       "      <th>Notes</th>\n",
       "      <th>Diff</th>\n",
       "      <th>Time1</th>\n",
       "    </tr>\n",
       "  </thead>\n",
       "  <tbody>\n",
       "    <tr>\n",
       "      <th>0</th>\n",
       "      <td>11/18/2021</td>\n",
       "      <td>09:01:57</td>\n",
       "      <td>0.00000</td>\n",
       "      <td>0.000000</td>\n",
       "      <td>0.000000</td>\n",
       "      <td>0.00000</td>\n",
       "      <td>0.0</td>\n",
       "      <td>0.000000</td>\n",
       "      <td>0.000000</td>\n",
       "      <td>0.000000</td>\n",
       "      <td>...</td>\n",
       "      <td>0</td>\n",
       "      <td>0</td>\n",
       "      <td>0</td>\n",
       "      <td>0</td>\n",
       "      <td>0</td>\n",
       "      <td>0</td>\n",
       "      <td>0</td>\n",
       "      <td>NaN</td>\n",
       "      <td>NaN</td>\n",
       "      <td>NaT</td>\n",
       "    </tr>\n",
       "    <tr>\n",
       "      <th>1</th>\n",
       "      <td>11/18/2021</td>\n",
       "      <td>09:01:58</td>\n",
       "      <td>0.00000</td>\n",
       "      <td>0.000000</td>\n",
       "      <td>0.000000</td>\n",
       "      <td>0.00000</td>\n",
       "      <td>0.0</td>\n",
       "      <td>0.000000</td>\n",
       "      <td>0.000000</td>\n",
       "      <td>0.000000</td>\n",
       "      <td>...</td>\n",
       "      <td>0</td>\n",
       "      <td>0</td>\n",
       "      <td>0</td>\n",
       "      <td>0</td>\n",
       "      <td>0</td>\n",
       "      <td>0</td>\n",
       "      <td>0</td>\n",
       "      <td>NaN</td>\n",
       "      <td>1.0</td>\n",
       "      <td>0 days 00:00:01</td>\n",
       "    </tr>\n",
       "    <tr>\n",
       "      <th>2</th>\n",
       "      <td>11/18/2021</td>\n",
       "      <td>09:01:59</td>\n",
       "      <td>21.76651</td>\n",
       "      <td>10.395285</td>\n",
       "      <td>0.004395</td>\n",
       "      <td>0.21973</td>\n",
       "      <td>0.0</td>\n",
       "      <td>95.033188</td>\n",
       "      <td>0.017423</td>\n",
       "      <td>0.004395</td>\n",
       "      <td>...</td>\n",
       "      <td>0</td>\n",
       "      <td>0</td>\n",
       "      <td>0</td>\n",
       "      <td>0</td>\n",
       "      <td>0</td>\n",
       "      <td>0</td>\n",
       "      <td>0</td>\n",
       "      <td>NaN</td>\n",
       "      <td>1.0</td>\n",
       "      <td>0 days 00:00:01</td>\n",
       "    </tr>\n",
       "    <tr>\n",
       "      <th>3</th>\n",
       "      <td>11/18/2021</td>\n",
       "      <td>09:02:00</td>\n",
       "      <td>21.76651</td>\n",
       "      <td>10.406271</td>\n",
       "      <td>0.000000</td>\n",
       "      <td>0.21973</td>\n",
       "      <td>0.0</td>\n",
       "      <td>94.945297</td>\n",
       "      <td>0.017423</td>\n",
       "      <td>0.004395</td>\n",
       "      <td>...</td>\n",
       "      <td>0</td>\n",
       "      <td>0</td>\n",
       "      <td>0</td>\n",
       "      <td>0</td>\n",
       "      <td>0</td>\n",
       "      <td>0</td>\n",
       "      <td>0</td>\n",
       "      <td>NaN</td>\n",
       "      <td>1.0</td>\n",
       "      <td>0 days 00:00:01</td>\n",
       "    </tr>\n",
       "    <tr>\n",
       "      <th>4</th>\n",
       "      <td>11/18/2021</td>\n",
       "      <td>09:02:01</td>\n",
       "      <td>21.76651</td>\n",
       "      <td>10.406271</td>\n",
       "      <td>0.004395</td>\n",
       "      <td>0.21973</td>\n",
       "      <td>0.0</td>\n",
       "      <td>94.945297</td>\n",
       "      <td>-0.000244</td>\n",
       "      <td>0.000000</td>\n",
       "      <td>...</td>\n",
       "      <td>0</td>\n",
       "      <td>0</td>\n",
       "      <td>0</td>\n",
       "      <td>0</td>\n",
       "      <td>0</td>\n",
       "      <td>0</td>\n",
       "      <td>0</td>\n",
       "      <td>NaN</td>\n",
       "      <td>1.0</td>\n",
       "      <td>0 days 00:00:01</td>\n",
       "    </tr>\n",
       "  </tbody>\n",
       "</table>\n",
       "<p>5 rows × 82 columns</p>\n",
       "</div>"
      ],
      "text/plain": [
       "         Date      Time  TE-007 R.T.   CA O2 25   DP (600)  BPR Equilibar  \\\n",
       "0  11/18/2021  09:01:57      0.00000   0.000000   0.000000        0.00000   \n",
       "1  11/18/2021  09:01:58      0.00000   0.000000   0.000000        0.00000   \n",
       "2  11/18/2021  09:01:59     21.76651  10.395285   0.004395        0.21973   \n",
       "3  11/18/2021  09:02:00     21.76651  10.406271   0.000000        0.21973   \n",
       "4  11/18/2021  09:02:01     21.76651  10.406271   0.004395        0.21973   \n",
       "\n",
       "   DP (300)   CA O2 100  FT-201new   DP (600).1  ...  V-502  V-503  V-504  \\\n",
       "0       0.0    0.000000   0.000000     0.000000  ...      0      0      0   \n",
       "1       0.0    0.000000   0.000000     0.000000  ...      0      0      0   \n",
       "2       0.0   95.033188   0.017423     0.004395  ...      0      0      0   \n",
       "3       0.0   94.945297   0.017423     0.004395  ...      0      0      0   \n",
       "4       0.0   94.945297  -0.000244     0.000000  ...      0      0      0   \n",
       "\n",
       "   V-505  V-506  V-601  V-602  Notes  Diff           Time1  \n",
       "0      0      0      0      0    NaN   NaN             NaT  \n",
       "1      0      0      0      0    NaN   1.0 0 days 00:00:01  \n",
       "2      0      0      0      0    NaN   1.0 0 days 00:00:01  \n",
       "3      0      0      0      0    NaN   1.0 0 days 00:00:01  \n",
       "4      0      0      0      0    NaN   1.0 0 days 00:00:01  \n",
       "\n",
       "[5 rows x 82 columns]"
      ]
     },
     "execution_count": 18,
     "metadata": {},
     "output_type": "execute_result"
    }
   ],
   "source": [
    "df.head()\n",
    "#df.plot(kind=\"line\")"
   ]
  },
  {
   "cell_type": "code",
   "execution_count": 19,
   "metadata": {},
   "outputs": [],
   "source": []
  },
  {
   "cell_type": "code",
   "execution_count": null,
   "metadata": {},
   "outputs": [],
   "source": []
  }
 ],
 "metadata": {
  "kernelspec": {
   "display_name": "Python 3",
   "language": "python",
   "name": "python3"
  },
  "language_info": {
   "codemirror_mode": {
    "name": "ipython",
    "version": 3
   },
   "file_extension": ".py",
   "mimetype": "text/x-python",
   "name": "python",
   "nbconvert_exporter": "python",
   "pygments_lexer": "ipython3",
   "version": "3.8.5"
  }
 },
 "nbformat": 4,
 "nbformat_minor": 4
}
