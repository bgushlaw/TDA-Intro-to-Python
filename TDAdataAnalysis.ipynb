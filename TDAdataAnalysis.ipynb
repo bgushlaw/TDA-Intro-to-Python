{
 "cells": [
  {
   "cell_type": "markdown",
   "metadata": {},
   "source": [
    "# TDA simple csv import, data manipulation and plotting"
   ]
  },
  {
   "cell_type": "markdown",
   "metadata": {},
   "source": [
    "## Brandon Gushlaw - Updated 11/17/21"
   ]
  },
  {
   "cell_type": "markdown",
   "metadata": {},
   "source": [
    "## Initial Setup "
   ]
  },
  {
   "cell_type": "markdown",
   "metadata": {},
   "source": [
    "### First we need to import all necessary libriaries"
   ]
  },
  {
   "cell_type": "code",
   "execution_count": 31,
   "metadata": {},
   "outputs": [],
   "source": [
    "import pandas as pd\n",
    "import numpy\n",
    "import watermark\n",
    "import os.path\n",
    "from os import path"
   ]
  },
  {
   "cell_type": "markdown",
   "metadata": {},
   "source": [
    "### Set the path to a location with all the csv files we wish to work with "
   ]
  },
  {
   "cell_type": "code",
   "execution_count": 2,
   "metadata": {},
   "outputs": [
    {
     "data": {
      "text/plain": [
       "'C:\\\\Users\\\\bgushlaw\\\\TDA Intro to Python'"
      ]
     },
     "execution_count": 2,
     "metadata": {},
     "output_type": "execute_result"
    }
   ],
   "source": [
    "# change path name to directory with data files. OS.getcwd is the current notebook path \n",
    "Path=os.getcwd()\n",
    "\n",
    "#Print the file location we have set as the current directory\n",
    "Path\n",
    "#Path=Path+\"/Extras\""
   ]
  },
  {
   "cell_type": "code",
   "execution_count": 3,
   "metadata": {},
   "outputs": [
    {
     "data": {
      "text/plain": [
       "True"
      ]
     },
     "execution_count": 3,
     "metadata": {},
     "output_type": "execute_result"
    }
   ],
   "source": [
    "#Verify the Path \n",
    "path.exists(Path)"
   ]
  },
  {
   "cell_type": "markdown",
   "metadata": {},
   "source": [
    "### Create a list of all the files in the directory and filter any non-csv files out. Then we will have a list which we can iterate through for loading all csv files"
   ]
  },
  {
   "cell_type": "code",
   "execution_count": 4,
   "metadata": {},
   "outputs": [],
   "source": [
    "#create the list of csv files and print the filtered files list to verify \n",
    "files_in_directory = os.listdir(Path)\n",
    "filtered_files = [file for file in files_in_directory if file.endswith(\".csv\")]\n",
    "#filtered_files\n",
    "#len(filtered_files)"
   ]
  },
  {
   "cell_type": "markdown",
   "metadata": {},
   "source": [
    "# Project 1: Combining multiple CSV files and Data manipulation \n",
    "### In this example I am creating converting the csv data into what is called a data frame using pandas library. I want to get an estimate on the total run time of one of my lab rig. The problem is I have many sets of data from this rig and just because I am recording data doesnt mean the system is in operation. \n",
    "\n",
    "#### More info: The pandas library is a python tool that attemps to make things easier with developed functions for data manipulation and data meshing. There are other ways to do this such as numpy which inheretly computes faster becuase of its core code in C but the caveat is that you need to be more maticulus with calling and setting variables or even writing you for loops to do the operation. In most cases you will not notice the difference in speed for pandas and numpy. "
   ]
  },
  {
   "cell_type": "markdown",
   "metadata": {},
   "source": [
    "### Step 1: Create an empty data frame using pandas with the two column headers I am interested in for all the data sets. "
   ]
  },
  {
   "cell_type": "code",
   "execution_count": 11,
   "metadata": {},
   "outputs": [
    {
     "name": "stdout",
     "output_type": "stream",
     "text": [
      "File number:8 Complete, File name:2020-07-08_07-32.csv\n",
      "File number:7 Complete, File name:2020-07-09_13-26.csv\n",
      "File number:6 Complete, File name:2020-07-09_13-27.csv\n",
      "File number:5 Complete, File name:2020-07-09_13-32.csv\n",
      "File number:4 Complete, File name:2020-07-10_06-50.csv\n",
      "File number:3 Complete, File name:2020-07-10_10-58.csv\n",
      "File number:2 Complete, File name:2020-07-10_11-39.csv\n",
      "File number:1 Complete, File name:2020-07-13_07-51.csv\n"
     ]
    }
   ],
   "source": [
    "#Initalize and Empty data frame\n",
    "df=pd.DataFrame([],columns=['Raw_Time_Diff', 'FI_4'])\n",
    "n=0\n",
    "#For loop all the files and create a time difference stamp between all data rows\n",
    "for file in filtered_files:\n",
    "    \n",
    "    if os.stat(file).st_size == 0:    \n",
    "        ()\n",
    "    else:\n",
    "        hf=pd.read_csv(file)\n",
    "        for index in range(len(hf)):\n",
    "            if index==0:\n",
    "                hf[\"Raw_Time_Diff\"]=hf.loc[index,'TotalTime']*3600-0\n",
    "            else:\n",
    "                hf[\"Raw_Time_Diff\"]=hf.loc[index,'TotalTime']*3600-hf.loc[index-1,'TotalTime']*3600\n",
    "        df=pd.concat([df,hf])\n",
    "    #Print the file number completed and the file name. \n",
    "    print(\"File number:\" + str(len(filtered_files)-(n)) + \" Complete\",\" File name:\" + str(file), sep=',')\n",
    "    n=n+1"
   ]
  },
  {
   "cell_type": "markdown",
   "metadata": {},
   "source": [
    "#### In the above section: Run through each file in the filter files folder created above. If the file is not empty and has data create a new dataframe. Create a new time column called \"Raw_Time Diff\" and run through the loop to get the time difference between each sampled data. \n",
    "\n",
    "#### In theory a sampling rate is fixed but many times a system with large computational operation and user controls will have jitter or delay especially when sampling and computation happens on the same mcu. For this reason my lab rig does not have a constant dt between sampling points. The last part of the loop will concatenate the new data fram hf into the initialization data frame df and repeat this until all csv files has been iterated through once in the current file path. "
   ]
  },
  {
   "cell_type": "markdown",
   "metadata": {},
   "source": [
    "### Step 2: Save the data frame as a csv in the working directory in case we need to work the data in the future and dont want to re-run and wait for the data compression. Typically, you want to save your final workable data as a csv so you can carry it into further data manipulation. Lastly, Check the length"
   ]
  },
  {
   "cell_type": "code",
   "execution_count": 12,
   "metadata": {},
   "outputs": [
    {
     "data": {
      "text/plain": [
       "231251"
      ]
     },
     "execution_count": 12,
     "metadata": {},
     "output_type": "execute_result"
    }
   ],
   "source": [
    "#df.to_csv('CompressedData.csv')\n",
    "len(df)"
   ]
  },
  {
   "cell_type": "markdown",
   "metadata": {},
   "source": [
    "### Step 3: Pull a column from the large dataset and set it as an independent vector.\n",
    "#### I will assume my system is running when I have a flow input set which only happens when I hit start on the system. "
   ]
  },
  {
   "cell_type": "code",
   "execution_count": 13,
   "metadata": {
    "scrolled": true
   },
   "outputs": [
    {
     "data": {
      "text/plain": [
       "0         0.000\n",
       "1         0.000\n",
       "2         0.000\n",
       "3         0.000\n",
       "4         0.000\n",
       "          ...  \n",
       "106557    1.953\n",
       "106558    1.954\n",
       "106559    1.953\n",
       "106560    1.950\n",
       "106561    2.034\n",
       "Name: FI_4, Length: 231251, dtype: float64"
      ]
     },
     "execution_count": 13,
     "metadata": {},
     "output_type": "execute_result"
    }
   ],
   "source": [
    "#Loc onto the column and create its own vector. Shows length and type of data in the structure\n",
    "FlowSP=df.loc[:,'FI_4']\n",
    "FlowSP"
   ]
  },
  {
   "cell_type": "code",
   "execution_count": 14,
   "metadata": {},
   "outputs": [
    {
     "data": {
      "text/plain": [
       "0         0.252\n",
       "1         0.252\n",
       "2         0.252\n",
       "3         0.252\n",
       "4         0.252\n",
       "          ...  \n",
       "106557    0.180\n",
       "106558    0.180\n",
       "106559    0.180\n",
       "106560    0.180\n",
       "106561    0.180\n",
       "Name: Raw_Time_Diff, Length: 231251, dtype: float64"
      ]
     },
     "execution_count": 14,
     "metadata": {},
     "output_type": "execute_result"
    }
   ],
   "source": [
    "#Loc onto the column and create its own vector. Shows length and type of data in the structure\n",
    "Time_flow=df.loc[:,'Raw_Time_Diff']\n",
    "Time_flow"
   ]
  },
  {
   "cell_type": "markdown",
   "metadata": {},
   "source": [
    "### Step 4: Drop all the data rows where the flow set point is zero"
   ]
  },
  {
   "cell_type": "code",
   "execution_count": 15,
   "metadata": {},
   "outputs": [
    {
     "data": {
      "text/plain": [
       "187495"
      ]
     },
     "execution_count": 15,
     "metadata": {},
     "output_type": "execute_result"
    }
   ],
   "source": [
    "indexNames = df[ df['FI_4'] == 0 ].index\n",
    "df.drop(indexNames , inplace=True)\n",
    "len(df)"
   ]
  },
  {
   "cell_type": "markdown",
   "metadata": {},
   "source": [
    "### Step 5: Sum all of the time data, calculate total pump revolutions, and print the output"
   ]
  },
  {
   "cell_type": "code",
   "execution_count": 16,
   "metadata": {},
   "outputs": [
    {
     "name": "stdout",
     "output_type": "stream",
     "text": [
      "Total Pump Running Time:9.945479999990065 hrs, Total Revolutions of Pump:2028877.9199979734Revs\n"
     ]
    }
   ],
   "source": [
    "Pump_RunTime=df.loc[:,'Raw_Time_Diff'].sum()/60\n",
    "Total_Revs=Pump_RunTime*3400\n",
    "print(\"Total Pump Running Time:\" + str(Pump_RunTime/60) + \" hrs\",\" Total Revolutions of Pump:\" + str(Total_Revs) + \"Revs\", sep=',')"
   ]
  },
  {
   "cell_type": "markdown",
   "metadata": {},
   "source": [
    "# Project 2: Data manipulation and Plotting "
   ]
  },
  {
   "cell_type": "code",
   "execution_count": 12,
   "metadata": {},
   "outputs": [
    {
     "name": "stdout",
     "output_type": "stream",
     "text": [
      "alabaster==0.7.12\n",
      "anaconda-client==1.7.2\n",
      "anaconda-navigator==1.10.0\n",
      "anaconda-project==0.8.3\n",
      "appdirs==1.4.4\n",
      "argh==0.26.2\n",
      "argon2-cffi @ file:///C:/ci/argon2-cffi_1596828585465/work\n",
      "asn1crypto @ file:///tmp/build/80754af9/asn1crypto_1596577642040/work\n",
      "astroid @ file:///C:/ci/astroid_1592487315634/work\n",
      "astropy==4.0.2\n",
      "async-generator==1.10\n",
      "atomicwrites==1.4.0\n",
      "attrs @ file:///tmp/build/80754af9/attrs_1604765588209/work\n",
      "autopep8 @ file:///tmp/build/80754af9/autopep8_1596578164842/work\n",
      "Babel @ file:///tmp/build/80754af9/babel_1605108370292/work\n",
      "backcall==0.2.0\n",
      "backports.functools-lru-cache==1.6.1\n",
      "backports.shutil-get-terminal-size==1.0.0\n",
      "backports.tempfile==1.0\n",
      "backports.weakref==1.0.post1\n",
      "bcrypt @ file:///C:/ci/bcrypt_1597936263757/work\n",
      "beautifulsoup4 @ file:///tmp/build/80754af9/beautifulsoup4_1601924105527/work\n",
      "bitarray @ file:///C:/ci/bitarray_1605065210072/work\n",
      "bkcharts==0.2\n",
      "bleach @ file:///tmp/build/80754af9/bleach_1600439572647/work\n",
      "blis==0.7.4\n",
      "bokeh @ file:///C:/ci/bokeh_1603297934731/work\n",
      "boto==2.49.0\n",
      "Bottleneck==1.3.2\n",
      "brotlipy==0.7.0\n",
      "catalogue==2.0.1\n",
      "certifi==2021.10.8\n",
      "cffi @ file:///C:/ci/cffi_1600699246375/work\n",
      "chardet==3.0.4\n",
      "click==7.1.2\n",
      "cloudpickle @ file:///tmp/build/80754af9/cloudpickle_1598884132938/work\n",
      "clyent==1.2.2\n",
      "colorama @ file:///tmp/build/80754af9/colorama_1603211150991/work\n",
      "comtypes==1.1.7\n",
      "conda==4.10.3\n",
      "conda-build==3.20.5\n",
      "conda-package-handling @ file:///C:/ci/conda-package-handling_1603003327818/work\n",
      "conda-verify==3.4.2\n",
      "contextlib2==0.6.0.post1\n",
      "cryptography @ file:///C:/ci/cryptography_1601046905460/work\n",
      "cvxopt==1.2.0\n",
      "cycler==0.10.0\n",
      "cymem==2.0.5\n",
      "Cython @ file:///C:/ci/cython_1594829190914/work\n",
      "cytoolz==0.11.0\n",
      "dask @ file:///home/conda/feedstock_root/build_artifacts/dask-core_1622841223487/work\n",
      "decorator==4.4.2\n",
      "defusedxml==0.6.0\n",
      "diff-match-patch @ file:///tmp/build/80754af9/diff-match-patch_1594828741838/work\n",
      "distributed @ file:///D:/bld/distributed_1622867681721/work\n",
      "docopt==0.6.2\n",
      "docutils==0.16\n",
      "dropbox==11.11.0\n",
      "EasyProcess==0.3\n",
      "entrypoint2==0.2.4\n",
      "entrypoints==0.3\n",
      "et-xmlfile==1.0.1\n",
      "fastai==2.2.5\n",
      "fastbook==0.0.16\n",
      "fastcache==1.1.0\n",
      "fastcore==1.3.19\n",
      "fastprogress==1.0.0\n",
      "fastrelease==0.1.11\n",
      "filelock==3.0.12\n",
      "flake8 @ file:///tmp/build/80754af9/flake8_1601911421857/work\n",
      "Flask==1.1.2\n",
      "fsspec @ file:///tmp/build/80754af9/fsspec_1602684995936/work\n",
      "future==0.18.2\n",
      "gevent @ file:///C:/ci/gevent_1601397627942/work\n",
      "ghapi==0.1.16\n",
      "glob2==0.7\n",
      "gmpy2==2.0.8\n",
      "greenlet @ file:///C:/ci/greenlet_1600885448389/work\n",
      "h5py==2.10.0\n",
      "HeapDict==1.0.1\n",
      "html5lib @ file:///tmp/build/80754af9/html5lib_1593446221756/work\n",
      "idna @ file:///tmp/build/80754af9/idna_1593446292537/work\n",
      "imageio @ file:///tmp/build/80754af9/imageio_1594161405741/work\n",
      "imagesize==1.2.0\n",
      "imbalanced-learn @ file:///home/conda/feedstock_root/build_artifacts/imbalanced-learn_1613662486985/work\n",
      "importlib-metadata @ file:///tmp/build/80754af9/importlib-metadata_1602276842396/work\n",
      "iniconfig @ file:///tmp/build/80754af9/iniconfig_1602780191262/work\n",
      "intervaltree @ file:///tmp/build/80754af9/intervaltree_1598376443606/work\n",
      "ipykernel @ file:///C:/ci/ipykernel_1596190155316/work/dist/ipykernel-5.3.4-py3-none-any.whl\n",
      "ipympl @ file:///tmp/build/80754af9/ipympl_1616528805894/work\n",
      "ipython @ file:///C:/ci/ipython_1604083276484/work\n",
      "ipython-genutils==0.2.0\n",
      "ipywidgets==7.6.5\n",
      "isort @ file:///tmp/build/80754af9/isort_1602603989581/work\n",
      "itsdangerous==1.1.0\n",
      "jdcal==1.4.1\n",
      "jedi @ file:///C:/ci/jedi_1592833825077/work\n",
      "Jinja2==2.11.2\n",
      "joblib @ file:///tmp/build/80754af9/joblib_1601912903842/work\n",
      "json5==0.9.5\n",
      "jsonschema @ file:///tmp/build/80754af9/jsonschema_1602607155483/work\n",
      "jupyter==1.0.0\n",
      "jupyter-client @ file:///tmp/build/80754af9/jupyter_client_1601311786391/work\n",
      "jupyter-console @ file:///tmp/build/80754af9/jupyter_console_1598884538475/work\n",
      "jupyter-core==4.6.3\n",
      "jupyterlab==2.2.6\n",
      "jupyterlab-pygments @ file:///tmp/build/80754af9/jupyterlab_pygments_1601490720602/work\n",
      "jupyterlab-server @ file:///tmp/build/80754af9/jupyterlab_server_1594164409481/work\n",
      "jupyterlab-widgets==1.0.2\n",
      "keyring @ file:///C:/ci/keyring_1601489747083/work\n",
      "kiwisolver @ file:///C:/ci/kiwisolver_1604014703538/work\n",
      "lazy-object-proxy==1.4.3\n",
      "libarchive-c==2.9\n",
      "llvmlite==0.34.0\n",
      "locket==0.2.0\n",
      "lxml @ file:///C:/ci/lxml_1603216366346/work\n",
      "MarkupSafe==1.1.1\n",
      "matplotlib @ file:///C:/ci/matplotlib-base_1603355780617/work\n",
      "matrixprofile==1.1.10\n",
      "mccabe==0.6.1\n",
      "menuinst==1.4.16\n",
      "mistune==0.8.4\n",
      "mkl-fft==1.2.0\n",
      "mkl-random==1.1.1\n",
      "mkl-service==2.3.0\n",
      "mock==4.0.2\n",
      "more-itertools @ file:///tmp/build/80754af9/more-itertools_1605111547926/work\n",
      "mpmath==1.1.0\n",
      "msgpack==1.0.0\n",
      "multipledispatch==0.6.0\n",
      "murmurhash==1.0.5\n",
      "navigator-updater==0.2.1\n",
      "nbclient @ file:///tmp/build/80754af9/nbclient_1602783176460/work\n",
      "nbconvert @ file:///C:/ci/nbconvert_1601914925608/work\n",
      "nbdev==1.1.13\n",
      "nbformat @ file:///tmp/build/80754af9/nbformat_1602783287752/work\n",
      "nest-asyncio @ file:///tmp/build/80754af9/nest-asyncio_1605115881283/work\n",
      "networkx @ file:///tmp/build/80754af9/networkx_1598376031484/work\n",
      "nltk @ file:///tmp/build/80754af9/nltk_1592496090529/work\n",
      "nose==1.3.7\n",
      "notebook @ file:///C:/ci/notebook_1601501643625/work\n",
      "notebook-as-pdf==0.5.0\n",
      "numba==0.51.2\n",
      "numexpr==2.7.1\n",
      "numpy @ file:///C:/ci/numpy_and_numpy_base_1603466732592/work\n",
      "numpydoc @ file:///tmp/build/80754af9/numpydoc_1605117425582/work\n",
      "olefile==0.46\n",
      "openpyxl @ file:///tmp/build/80754af9/openpyxl_1598113097404/work\n",
      "packaging==20.4\n",
      "pandas @ file:///C:/ci/pandas_1602083338010/work\n",
      "pandocfilters @ file:///C:/ci/pandocfilters_1605102497129/work\n",
      "paramiko @ file:///tmp/build/80754af9/paramiko_1598886428689/work\n",
      "parso==0.7.0\n",
      "partd==1.1.0\n",
      "path @ file:///C:/ci/path_1598358556930/work\n",
      "pathlib2==2.3.5\n",
      "pathtools==0.1.2\n",
      "pathy==0.3.4\n",
      "patsy==0.5.1\n",
      "pep8==1.7.1\n",
      "pexpect==4.8.0\n",
      "pickleshare==0.7.5\n",
      "Pillow @ file:///C:/ci/pillow_1603823068645/work\n",
      "pipreqs==0.4.11\n",
      "pkginfo==1.6.1\n",
      "pluggy==0.13.1\n",
      "ply==3.11\n",
      "preshed==3.0.5\n",
      "prometheus-client==0.8.0\n",
      "prompt-toolkit @ file:///tmp/build/80754af9/prompt-toolkit_1602688806899/work\n",
      "protobuf==3.11.2\n",
      "psutil @ file:///C:/ci/psutil_1598370330503/work\n",
      "py @ file:///tmp/build/80754af9/py_1593446248552/work\n",
      "pycodestyle==2.6.0\n",
      "pycosat==0.6.3\n",
      "pycparser @ file:///tmp/build/80754af9/pycparser_1594388511720/work\n",
      "pycurl==7.43.0.6\n",
      "pydantic==1.7.3\n",
      "pydocstyle @ file:///tmp/build/80754af9/pydocstyle_1598885001695/work\n",
      "pyee==8.1.0\n",
      "pyflakes==2.2.0\n",
      "Pygments @ file:///tmp/build/80754af9/pygments_1604103097372/work\n",
      "pylint @ file:///C:/ci/pylint_1598617153160/work\n",
      "PyNaCl @ file:///C:/ci/pynacl_1595000047588/work\n",
      "pyodbc===4.0.0-unsupported\n",
      "pyOpenSSL @ file:///tmp/build/80754af9/pyopenssl_1594392929924/work\n",
      "pyparsing==2.4.7\n",
      "PyPDF2==1.26.0\n",
      "pyppeteer==0.2.5\n",
      "pyreadline==2.1\n",
      "pyrsistent @ file:///C:/ci/pyrsistent_1600141795814/work\n",
      "PySocks==1.7.1\n",
      "pytest==0.0.0\n",
      "python-dateutil==2.8.1\n",
      "python-jsonrpc-server @ file:///tmp/build/80754af9/python-jsonrpc-server_1600278539111/work\n",
      "python-language-server @ file:///tmp/build/80754af9/python-language-server_1600454544709/work\n",
      "pytorch-ranger==0.1.1\n",
      "pyts==0.11.0\n",
      "pytz==2020.1\n",
      "pyunpack==0.2.2\n",
      "PyWavelets @ file:///C:/ci/pywavelets_1601658407916/work\n",
      "pywin32==227\n",
      "pywin32-ctypes==0.2.0\n",
      "pywinpty==0.5.7\n",
      "PyYAML==5.3.1\n",
      "pyzmq==19.0.2\n",
      "QDarkStyle==2.8.1\n",
      "QtAwesome @ file:///tmp/build/80754af9/qtawesome_1602272867890/work\n",
      "qtconsole @ file:///tmp/build/80754af9/qtconsole_1600870028330/work\n",
      "QtPy==1.9.0\n",
      "regex @ file:///C:/ci/regex_1602770567298/work\n",
      "requests @ file:///tmp/build/80754af9/requests_1592841827918/work\n",
      "rope @ file:///tmp/build/80754af9/rope_1602264064449/work\n",
      "Rtree==0.9.4\n",
      "ruamel-yaml==0.15.87\n",
      "scikit-image==0.17.2\n",
      "scikit-learn @ file:///C:/ci/scikit-learn_1622739500535/work\n",
      "scipy @ file:///C:/ci/scipy_1604596260408/work\n",
      "seaborn @ file:///tmp/build/80754af9/seaborn_1600553570093/work\n",
      "Send2Trash==1.5.0\n",
      "sentencepiece==0.1.95\n",
      "simplegeneric==0.8.1\n",
      "singledispatch @ file:///tmp/build/80754af9/singledispatch_1602523705405/work\n",
      "sip==4.19.13\n",
      "six @ file:///C:/ci/six_1605187374963/work\n",
      "sktime==0.6.1\n",
      "smart-open==3.0.0\n",
      "snowballstemmer==2.0.0\n",
      "sortedcollections==1.2.1\n",
      "sortedcontainers==2.2.2\n",
      "soupsieve==2.0.1\n",
      "spacy==3.0.0\n",
      "spacy-legacy==3.0.1\n",
      "Sphinx @ file:///tmp/build/80754af9/sphinx_1597428793432/work\n",
      "sphinxcontrib-applehelp==1.0.2\n",
      "sphinxcontrib-devhelp==1.0.2\n",
      "sphinxcontrib-htmlhelp==1.0.3\n",
      "sphinxcontrib-jsmath==1.0.1\n",
      "sphinxcontrib-qthelp==1.0.3\n",
      "sphinxcontrib-serializinghtml==1.1.4\n",
      "sphinxcontrib-websupport @ file:///tmp/build/80754af9/sphinxcontrib-websupport_1597081412696/work\n",
      "spyder @ file:///C:/ci/spyder_1599054115447/work\n",
      "spyder-kernels @ file:///C:/ci/spyder-kernels_1599051709837/work\n",
      "SQLAlchemy @ file:///C:/ci/sqlalchemy_1603818908746/work\n",
      "srsly==2.4.0\n",
      "statsmodels==0.12.2\n",
      "stone==3.2.1\n",
      "stumpy==1.8.0\n",
      "sympy @ file:///C:/ci/sympy_1605101511098/work\n",
      "tables==3.6.1\n",
      "tblib @ file:///tmp/build/80754af9/tblib_1597928476713/work\n",
      "terminado==0.9.1\n",
      "testpath==0.4.4\n",
      "thinc==8.0.1\n",
      "threadpoolctl @ file:///tmp/tmp9twdgx9k/threadpoolctl-2.1.0-py3-none-any.whl\n",
      "tifffile==2020.10.1\n",
      "toml @ file:///tmp/build/80754af9/toml_1592853716807/work\n",
      "toolz @ file:///tmp/build/80754af9/toolz_1601054250827/work\n",
      "torch==1.7.1\n",
      "torch-optimizer==0.1.0\n",
      "torchaudio==0.7.2\n",
      "torchvision==0.8.2\n",
      "tornado==6.0.4\n",
      "tqdm @ file:///tmp/build/80754af9/tqdm_1602185206534/work\n",
      "traitlets @ file:///tmp/build/80754af9/traitlets_1602787416690/work\n",
      "tsfresh==0.18.0\n",
      "typer==0.3.2\n",
      "typing-extensions @ file:///tmp/build/80754af9/typing_extensions_1598376058250/work\n",
      "ujson @ file:///C:/ci/ujson_1602505266082/work\n",
      "unicodecsv==0.14.1\n",
      "urllib3 @ file:///tmp/build/80754af9/urllib3_1603305693037/work\n",
      "wasabi==0.8.2\n",
      "watchdog @ file:///C:/ci/watchdog_1593447437088/work\n",
      "wcwidth @ file:///tmp/build/80754af9/wcwidth_1593447189090/work\n",
      "webencodings==0.5.1\n",
      "websockets==8.1\n",
      "Werkzeug==1.0.1\n",
      "widgetsnbextension==3.5.1\n",
      "win-inet-pton==1.1.0\n",
      "win-unicode-console==0.5\n",
      "wincertstore==0.2\n",
      "wrapt==1.11.2\n",
      "xlrd==1.2.0\n",
      "XlsxWriter @ file:///tmp/build/80754af9/xlsxwriter_1602692860603/work\n",
      "xlwings==0.20.8\n",
      "xlwt==1.3.0\n",
      "xmltodict==0.12.0\n",
      "yapf @ file:///tmp/build/80754af9/yapf_1593528177422/work\n",
      "yarg==0.1.9\n",
      "zict==2.0.0\n",
      "zipp @ file:///tmp/build/80754af9/zipp_1604001098328/work\n",
      "zope.event==4.5.0\n",
      "zope.interface @ file:///C:/ci/zope.interface_1602002494740/work\n"
     ]
    }
   ],
   "source": [
    "#!pip freeze\n"
   ]
  },
  {
   "cell_type": "code",
   "execution_count": 33,
   "metadata": {},
   "outputs": [
    {
     "name": "stdout",
     "output_type": "stream",
     "text": [
      "The watermark extension is already loaded. To reload it, use:\n",
      "  %reload_ext watermark\n",
      "Python implementation: CPython\n",
      "Python version       : 3.8.5\n",
      "IPython version      : 7.19.0\n",
      "\n",
      "pandas   : 1.1.3\n",
      "watermark: 2.2.0\n",
      "path     : 15.0.0\n",
      "numpy    : 1.19.2\n",
      "\n",
      "Compiler    : MSC v.1916 64 bit (AMD64)\n",
      "OS          : Windows\n",
      "Release     : 10\n",
      "Machine     : AMD64\n",
      "Processor   : Intel64 Family 6 Model 158 Stepping 10, GenuineIntel\n",
      "CPU cores   : 12\n",
      "Architecture: 64bit\n",
      "\n",
      " \n",
      "Last updated: Tue Nov 23 2021 10:27:25Mountain Standard Time\n",
      "\n"
     ]
    }
   ],
   "source": [
    "%load_ext watermark \n",
    "\n",
    "%watermark -v -m -p pandas,watermark,path,numpy\n",
    "#date \n",
    "print(\" \")\n",
    "%watermark -u -n -t -z"
   ]
  },
  {
   "cell_type": "code",
   "execution_count": null,
   "metadata": {},
   "outputs": [],
   "source": []
  }
 ],
 "metadata": {
  "kernelspec": {
   "display_name": "Python 3",
   "language": "python",
   "name": "python3"
  },
  "language_info": {
   "codemirror_mode": {
    "name": "ipython",
    "version": 3
   },
   "file_extension": ".py",
   "mimetype": "text/x-python",
   "name": "python",
   "nbconvert_exporter": "python",
   "pygments_lexer": "ipython3",
   "version": "3.8.5"
  }
 },
 "nbformat": 4,
 "nbformat_minor": 4
}
